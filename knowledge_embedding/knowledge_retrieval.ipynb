{
  "cells": [
    {
      "cell_type": "code",
      "execution_count": null,
      "metadata": {
        "colab": {
          "base_uri": "https://localhost:8080/"
        },
        "id": "l5GB93DEKAlZ",
        "outputId": "cfbd7a78-2989-41a8-e3e3-3e058073be27"
      },
      "outputs": [
        {
          "output_type": "stream",
          "name": "stdout",
          "text": [
            "\u001b[?25l     \u001b[90m━━━━━━━━━━━━━━━━━━━━━━━━━━━━━━━━━━━━━━━━\u001b[0m \u001b[32m0.0/86.0 KB\u001b[0m \u001b[31m?\u001b[0m eta \u001b[36m-:--:--\u001b[0m\r\u001b[2K     \u001b[90m━━━━━━━━━━━━━━━━━━━━━━━━━━━━━━━━━━━━━━━━\u001b[0m \u001b[32m86.0/86.0 KB\u001b[0m \u001b[31m5.1 MB/s\u001b[0m eta \u001b[36m0:00:00\u001b[0m\n",
            "\u001b[?25h  Preparing metadata (setup.py) ... \u001b[?25l\u001b[?25hdone\n",
            "\u001b[2K     \u001b[90m━━━━━━━━━━━━━━━━━━━━━━━━━━━━━━━━━━━━━━━━\u001b[0m \u001b[32m6.8/6.8 MB\u001b[0m \u001b[31m71.5 MB/s\u001b[0m eta \u001b[36m0:00:00\u001b[0m\n",
            "\u001b[2K     \u001b[90m━━━━━━━━━━━━━━━━━━━━━━━━━━━━━━━━━━━━━━━━\u001b[0m \u001b[32m1.3/1.3 MB\u001b[0m \u001b[31m49.8 MB/s\u001b[0m eta \u001b[36m0:00:00\u001b[0m\n",
            "\u001b[2K     \u001b[90m━━━━━━━━━━━━━━━━━━━━━━━━━━━━━━━━━━━━━━\u001b[0m \u001b[32m199.8/199.8 KB\u001b[0m \u001b[31m20.0 MB/s\u001b[0m eta \u001b[36m0:00:00\u001b[0m\n",
            "\u001b[2K     \u001b[90m━━━━━━━━━━━━━━━━━━━━━━━━━━━━━━━━━━━━━━━━\u001b[0m \u001b[32m7.6/7.6 MB\u001b[0m \u001b[31m108.0 MB/s\u001b[0m eta \u001b[36m0:00:00\u001b[0m\n",
            "\u001b[?25h  Building wheel for sentence-transformers (setup.py) ... \u001b[?25l\u001b[?25hdone\n"
          ]
        }
      ],
      "source": [
        "!pip install -U sentence-transformers rank_bm25 --quiet"
      ]
    },
    {
      "cell_type": "code",
      "execution_count": null,
      "metadata": {
        "colab": {
          "base_uri": "https://localhost:8080/"
        },
        "id": "Vw8Wweibihuc",
        "outputId": "dcf6a09a-1a7e-4ecf-881d-dcb7e5d46cc5"
      },
      "outputs": [
        {
          "output_type": "stream",
          "name": "stderr",
          "text": [
            "[nltk_data] Downloading package punkt to /root/nltk_data...\n",
            "[nltk_data]   Unzipping tokenizers/punkt.zip.\n"
          ]
        }
      ],
      "source": [
        "import json\n",
        "import nltk\n",
        "from nltk import sent_tokenize\n",
        "\n",
        "nltk.download('punkt')\n",
        "import time\n",
        "from pprint import pprint\n",
        "from sentence_transformers import SentenceTransformer, CrossEncoder, util\n",
        "import gzip\n",
        "import os\n",
        "import torch"
      ]
    },
    {
      "cell_type": "code",
      "execution_count": null,
      "metadata": {
        "id": "oGRpiweOimZD"
      },
      "outputs": [],
      "source": [
        "import pandas as pd\n",
        "from tqdm import tqdm\n"
      ]
    },
    {
      "cell_type": "code",
      "execution_count": null,
      "metadata": {
        "colab": {
          "base_uri": "https://localhost:8080/"
        },
        "id": "HrKXSiH3ioes",
        "outputId": "b4d3ce2c-c976-43cb-d63a-71e8a9f7744a"
      },
      "outputs": [
        {
          "output_type": "stream",
          "name": "stdout",
          "text": [
            "Mounted at /content/drive\n"
          ]
        }
      ],
      "source": [
        "from google.colab import drive\n",
        "drive.mount('/content/drive')"
      ]
    },
    {
      "cell_type": "code",
      "execution_count": null,
      "metadata": {
        "colab": {
          "base_uri": "https://localhost:8080/"
        },
        "id": "CdAzdHwUipES",
        "outputId": "4233486a-64c0-4b0c-d48b-b9cca540ac62"
      },
      "outputs": [
        {
          "output_type": "stream",
          "name": "stdout",
          "text": [
            "Archive:  /content/drive/MyDrive/Personalization/question_rewritten.zip\n",
            "   creating: ./question_rewritten/\n",
            "  inflating: ./question_rewritten/val_question_rewritten_1.csv  \n",
            "  inflating: ./question_rewritten/test_question_rewritten_1.csv  \n",
            "  inflating: ./question_rewritten/train_question_rewritten_1.csv  \n",
            "  inflating: ./question_rewritten/.~lock.train_question_rewritten_1.csv#  \n"
          ]
        }
      ],
      "source": [
        "!unzip /content/drive/MyDrive/Personalization/question_rewritten.zip -d ./"
      ]
    },
    {
      "cell_type": "code",
      "execution_count": null,
      "metadata": {
        "colab": {
          "base_uri": "https://localhost:8080/"
        },
        "id": "M3OidVvKkIGA",
        "outputId": "c033444b-4883-4909-a541-d85c1543c4b7"
      },
      "outputs": [
        {
          "output_type": "stream",
          "name": "stdout",
          "text": [
            "Archive:  /content/drive/MyDrive/Personalization/FoCus_modified.zip\n",
            "   creating: ./FoCus_modified/\n",
            "  inflating: ./FoCus_modified/val_set.json  \n",
            "  inflating: ./__MACOSX/FoCus_modified/._val_set.json  \n",
            "  inflating: ./FoCus_modified/test_set.json  \n",
            "  inflating: ./__MACOSX/FoCus_modified/._test_set.json  \n",
            "  inflating: ./FoCus_modified/train_set.json  \n",
            "  inflating: ./__MACOSX/FoCus_modified/._train_set.json  \n"
          ]
        }
      ],
      "source": [
        "!unzip /content/drive/MyDrive/Personalization/FoCus_modified.zip -d ./"
      ]
    },
    {
      "cell_type": "code",
      "execution_count": null,
      "metadata": {
        "colab": {
          "base_uri": "https://localhost:8080/"
        },
        "id": "HMadQ0kfjiut",
        "outputId": "9fb5b61b-bf2c-4df7-a5c3-d94574f6f394"
      },
      "outputs": [
        {
          "output_type": "execute_result",
          "data": {
            "text/plain": [
              "Index(['dialogID', 'utterance', 'query', 'answer', 'dialog_history',\n",
              "       'ground_knowledge', 'knowledge', 'ground_persona',\n",
              "       'question_rewritten'],\n",
              "      dtype='object')"
            ]
          },
          "metadata": {},
          "execution_count": 7
        }
      ],
      "source": [
        "df = pd.read_csv(\"/content/question_rewritten/train_question_rewritten_1.csv\")\n",
        "df.columns"
      ]
    },
    {
      "cell_type": "code",
      "execution_count": null,
      "metadata": {
        "id": "aM7AI9Tfroaw"
      },
      "outputs": [],
      "source": [
        "hit_knowledge_df = pd.read_csv(\"/content/drive/MyDrive/UMBC/hit_knowledge/train_knowledge.csv\")"
      ]
    },
    {
      "cell_type": "code",
      "execution_count": null,
      "metadata": {
        "id": "v6beHk-xjc0S"
      },
      "outputs": [],
      "source": [
        "def get_paragraphs(knowledge):\n",
        "  paragraphs = []\n",
        "  for paragraph in knowledge.split(\"\\n\"):\n",
        "      if len(paragraph.strip()) > 0:\n",
        "          paragraphs.append(sent_tokenize(paragraph.strip()))\n",
        "  return paragraphs"
      ]
    },
    {
      "cell_type": "code",
      "execution_count": null,
      "metadata": {
        "colab": {
          "base_uri": "https://localhost:8080/"
        },
        "id": "7GSTwmROjthV",
        "outputId": "45ea4a0c-c96f-43b3-a7d3-ecec559d8e47"
      },
      "outputs": [
        {
          "output_type": "execute_result",
          "data": {
            "text/plain": [
              "12657"
            ]
          },
          "metadata": {},
          "execution_count": 10
        }
      ],
      "source": [
        "len(df.iloc[0]['knowledge'])"
      ]
    },
    {
      "cell_type": "code",
      "execution_count": null,
      "metadata": {
        "id": "rjx-iIY9jwxa"
      },
      "outputs": [],
      "source": [
        "test_json = \"/content/FoCus_modified/train_set.json\""
      ]
    },
    {
      "cell_type": "code",
      "execution_count": null,
      "metadata": {
        "id": "fpDAh9_ykVLM"
      },
      "outputs": [],
      "source": [
        "with open(f\"{test_json}\") as f:\n",
        "  test_data = json.load(f)"
      ]
    },
    {
      "cell_type": "code",
      "execution_count": null,
      "metadata": {
        "colab": {
          "base_uri": "https://localhost:8080/",
          "height": 36
        },
        "id": "3XRGeHQulWAt",
        "outputId": "fb235c5f-7631-4bd8-954d-bf924353b50e"
      },
      "outputs": [
        {
          "output_type": "execute_result",
          "data": {
            "text/plain": [
              "'CGHGPTDOA0O7'"
            ],
            "application/vnd.google.colaboratory.intrinsic+json": {
              "type": "string"
            }
          },
          "metadata": {},
          "execution_count": 13
        }
      ],
      "source": [
        "test_data[0]['dialogID']"
      ]
    },
    {
      "cell_type": "code",
      "source": [],
      "metadata": {
        "id": "5Q8JFmXfeCl6"
      },
      "execution_count": null,
      "outputs": []
    },
    {
      "cell_type": "code",
      "execution_count": null,
      "metadata": {
        "colab": {
          "base_uri": "https://localhost:8080/",
          "height": 36
        },
        "id": "3HzzzMVqlaUv",
        "outputId": "defe8278-5ca3-45e5-b356-6a4d2a6ad80c"
      },
      "outputs": [
        {
          "output_type": "execute_result",
          "data": {
            "text/plain": [
              "'CGHGPTDOA0O7'"
            ],
            "application/vnd.google.colaboratory.intrinsic+json": {
              "type": "string"
            }
          },
          "metadata": {},
          "execution_count": 14
        }
      ],
      "source": [
        "df.iloc[0]['dialogID']"
      ]
    },
    {
      "cell_type": "code",
      "execution_count": null,
      "metadata": {
        "id": "GGXI-tO3pX28"
      },
      "outputs": [],
      "source": [
        "def get_paragraphs(knowledge):\n",
        "  paragraphs = []\n",
        "  for paragraph in knowledge.split(\"\\n\"):\n",
        "      if len(paragraph.strip()) > 0:\n",
        "          paragraphs.append(sent_tokenize(paragraph.strip()))\n",
        "  return paragraphs"
      ]
    },
    {
      "cell_type": "code",
      "execution_count": null,
      "metadata": {
        "id": "_3V-DMZ6pWDj"
      },
      "outputs": [],
      "source": [
        "def get_passages(paragraphs, window_size=4):\n",
        "  passages = []\n",
        "  for paragraph in paragraphs:\n",
        "      for start_idx in range(0, len(paragraph), window_size):\n",
        "          end_idx = min(start_idx+window_size, len(paragraph))\n",
        "          passages.append(\" \".join(paragraph[start_idx:end_idx]))\n",
        "  return passages"
      ]
    },
    {
      "cell_type": "code",
      "execution_count": null,
      "metadata": {
        "id": "-oD2-VRpqL6y"
      },
      "outputs": [],
      "source": [
        "def retrieve_knowledge(query, passages, corpus_embeddings, n_count = 3):\n",
        "  # corpus_embeddings = bi_encoder.encode(passages, convert_to_tensor=True, show_progress_bar=True)\n",
        "  question_embedding = bi_encoder.encode(query, convert_to_tensor=True)\n",
        "  question_embedding = question_embedding.cuda()\n",
        "  hits = util.semantic_search(question_embedding, corpus_embeddings, top_k=top_k)\n",
        "  hits = hits[0]  # Get the hits for the first query\n",
        "\n",
        "  cross_inp = [[query, passages[hit['corpus_id']]] for hit in hits]\n",
        "  cross_scores = cross_encoder.predict(cross_inp)\n",
        "\n",
        "  # Sort results by the cross-encoder scores\n",
        "  for idx in range(len(cross_scores)):\n",
        "      hits[idx]['cross-score'] = cross_scores[idx]\n",
        "\n",
        "  hits = sorted(hits, key=lambda x: x['score'], reverse=True)\n",
        "\n",
        "  hits = sorted(hits, key=lambda x: x['cross-score'], reverse=True)\n",
        "  hit_passages = []\n",
        "  hit_cross_scores = []\n",
        "  for hit in hits[0:n_count]:\n",
        "    hit_cross_scores.append(hit['cross-score'])\n",
        "    hit_passages.append(passages[hit['corpus_id']].replace(\"\\n\", \" \"))\n",
        "\n",
        "  return hit_cross_scores, hit_passages\n",
        ""
      ]
    },
    {
      "cell_type": "code",
      "execution_count": null,
      "metadata": {
        "id": "BHAN_lPjwYEK"
      },
      "outputs": [],
      "source": [
        "def get_result(query, passages, corpus_embeddings, n_count=2):\n",
        "  hit_scores, hit_passages = retrieve_knowledge(query, passages, corpus_embeddings, n_count=2)\n",
        "  hit_knowledge = \" \".join(hit_passages)\n",
        "  embeddings1 = similarity_model.encode(ground_knowledge, convert_to_tensor=True)\n",
        "  embeddings2 = similarity_model.encode(hit_knowledge, convert_to_tensor=True)\n",
        "  cosine_scores = util.cos_sim(embeddings1, embeddings2)\n",
        "  return hit_knowledge, cosine_scores[0].item()"
      ]
    },
    {
      "cell_type": "code",
      "execution_count": null,
      "metadata": {
        "id": "oQHZB6s-qQUO"
      },
      "outputs": [],
      "source": [
        "%%capture\n",
        "\n",
        "bi_encoder = SentenceTransformer('multi-qa-MiniLM-L6-cos-v1')\n",
        "bi_encoder.max_seq_length = 1024     #Truncate long passages to 1024 tokens\n",
        "top_k = 32                          #Number of passages we want to retrieve with the bi-encoder\n",
        "similarity_model = SentenceTransformer('all-MiniLM-L6-v2')\n",
        "cross_encoder = CrossEncoder('cross-encoder/ms-marco-MiniLM-L-12-v2')"
      ]
    },
    {
      "cell_type": "code",
      "execution_count": null,
      "metadata": {
        "colab": {
          "base_uri": "https://localhost:8080/"
        },
        "id": "VaFW1iSblNKC",
        "outputId": "af306304-4840-4f4b-8c21-424b16fef69c"
      },
      "outputs": [
        {
          "output_type": "stream",
          "name": "stderr",
          "text": [
            "933it [03:29, 14.32it/s]"
          ]
        },
        {
          "output_type": "stream",
          "name": "stdout",
          "text": [
            " Error Raised: DialogId: G7GOCOZDJ39I \n",
            "Exception: The size of tensor a (656) must match the size of tensor b (512) at non-singleton dimension 1\n",
            " Error Raised: DialogId: G7GOCOZDJ39I \n",
            "Exception: The size of tensor a (656) must match the size of tensor b (512) at non-singleton dimension 1\n",
            " Error Raised: DialogId: G7GOCOZDJ39I \n",
            "Exception: The size of tensor a (656) must match the size of tensor b (512) at non-singleton dimension 1\n",
            " Error Raised: DialogId: G7GOCOZDJ39I \n",
            "Exception: The size of tensor a (656) must match the size of tensor b (512) at non-singleton dimension 1\n",
            " Error Raised: DialogId: G7GOCOZDJ39I \n",
            "Exception: The size of tensor a (656) must match the size of tensor b (512) at non-singleton dimension 1\n",
            " Error Raised: DialogId: G7GOCOZDJ39I \n",
            "Exception: The size of tensor a (656) must match the size of tensor b (512) at non-singleton dimension 1\n"
          ]
        },
        {
          "output_type": "stream",
          "name": "stderr",
          "text": [
            "13744it [50:55, 12.62it/s]"
          ]
        },
        {
          "output_type": "stream",
          "name": "stdout",
          "text": [
            " Error Raised: DialogId: NZPV3RWXYCAZ \n",
            "Exception: The size of tensor a (728) must match the size of tensor b (512) at non-singleton dimension 1\n",
            " Error Raised: DialogId: NZPV3RWXYCAZ \n",
            "Exception: The size of tensor a (728) must match the size of tensor b (512) at non-singleton dimension 1\n",
            " Error Raised: DialogId: NZPV3RWXYCAZ \n",
            "Exception: The size of tensor a (728) must match the size of tensor b (512) at non-singleton dimension 1\n",
            " Error Raised: DialogId: NZPV3RWXYCAZ \n",
            "Exception: The size of tensor a (728) must match the size of tensor b (512) at non-singleton dimension 1\n",
            " Error Raised: DialogId: NZPV3RWXYCAZ \n",
            "Exception: The size of tensor a (728) must match the size of tensor b (512) at non-singleton dimension 1\n",
            " Error Raised: DialogId: NZPV3RWXYCAZ \n",
            "Exception: The size of tensor a (728) must match the size of tensor b (512) at non-singleton dimension 1\n"
          ]
        },
        {
          "output_type": "stream",
          "name": "stderr",
          "text": [
            "33496it [2:03:27,  7.30it/s]"
          ]
        },
        {
          "output_type": "stream",
          "name": "stdout",
          "text": [
            " Error Raised: DialogId: DCKJIGF2O7EL \n",
            "Exception: The size of tensor a (656) must match the size of tensor b (512) at non-singleton dimension 1\n",
            " Error Raised: DialogId: DCKJIGF2O7EL \n",
            "Exception: The size of tensor a (656) must match the size of tensor b (512) at non-singleton dimension 1\n",
            " Error Raised: DialogId: DCKJIGF2O7EL \n",
            "Exception: The size of tensor a (656) must match the size of tensor b (512) at non-singleton dimension 1\n",
            " Error Raised: DialogId: DCKJIGF2O7EL \n",
            "Exception: The size of tensor a (656) must match the size of tensor b (512) at non-singleton dimension 1\n",
            " Error Raised: DialogId: DCKJIGF2O7EL \n",
            "Exception: The size of tensor a (656) must match the size of tensor b (512) at non-singleton dimension 1\n",
            " Error Raised: DialogId: DCKJIGF2O7EL \n",
            "Exception: The size of tensor a (656) must match the size of tensor b (512) at non-singleton dimension 1\n"
          ]
        },
        {
          "output_type": "stream",
          "name": "stderr",
          "text": [
            "35644it [2:11:11, 11.70it/s]"
          ]
        },
        {
          "output_type": "stream",
          "name": "stdout",
          "text": [
            " Error Raised: DialogId: 829YXAM13TW4 \n",
            "Exception: The size of tensor a (521) must match the size of tensor b (512) at non-singleton dimension 1\n",
            " Error Raised: DialogId: 829YXAM13TW4 \n",
            "Exception: The size of tensor a (521) must match the size of tensor b (512) at non-singleton dimension 1\n",
            " Error Raised: DialogId: 829YXAM13TW4 \n",
            "Exception: The size of tensor a (521) must match the size of tensor b (512) at non-singleton dimension 1\n",
            " Error Raised: DialogId: 829YXAM13TW4 \n",
            "Exception: The size of tensor a (521) must match the size of tensor b (512) at non-singleton dimension 1\n",
            " Error Raised: DialogId: 829YXAM13TW4 \n",
            "Exception: The size of tensor a (521) must match the size of tensor b (512) at non-singleton dimension 1\n",
            " Error Raised: DialogId: 829YXAM13TW4 \n",
            "Exception: The size of tensor a (521) must match the size of tensor b (512) at non-singleton dimension 1\n"
          ]
        },
        {
          "output_type": "stream",
          "name": "stderr",
          "text": [
            "56491it [3:27:40,  9.51it/s]"
          ]
        },
        {
          "output_type": "stream",
          "name": "stdout",
          "text": [
            " Error Raised: DialogId: Z32HKWA20OMR \n",
            "Exception: The size of tensor a (728) must match the size of tensor b (512) at non-singleton dimension 1\n",
            " Error Raised: DialogId: Z32HKWA20OMR \n",
            "Exception: The size of tensor a (728) must match the size of tensor b (512) at non-singleton dimension 1\n",
            " Error Raised: DialogId: Z32HKWA20OMR \n",
            "Exception: The size of tensor a (728) must match the size of tensor b (512) at non-singleton dimension 1\n",
            " Error Raised: DialogId: Z32HKWA20OMR \n",
            "Exception: The size of tensor a (728) must match the size of tensor b (512) at non-singleton dimension 1\n",
            " Error Raised: DialogId: Z32HKWA20OMR \n",
            "Exception: The size of tensor a (728) must match the size of tensor b (512) at non-singleton dimension 1\n",
            " Error Raised: DialogId: Z32HKWA20OMR \n",
            "Exception: The size of tensor a (728) must match the size of tensor b (512) at non-singleton dimension 1"
          ]
        },
        {
          "output_type": "stream",
          "name": "stderr",
          "text": [
            "\r56494it [3:27:40, 13.08it/s]"
          ]
        },
        {
          "output_type": "stream",
          "name": "stdout",
          "text": [
            "\n"
          ]
        },
        {
          "output_type": "stream",
          "name": "stderr",
          "text": [
            "57928it [3:32:57,  4.53it/s]\n"
          ]
        }
      ],
      "source": [
        "last_dialogID = None\n",
        "dialogID_index = -1\n",
        "flag = False\n",
        "corpus_embeddings = None\n",
        "results = []\n",
        "\n",
        "for idx, row in enumerate(tqdm(df.iterrows())):\n",
        "  row = row[1]\n",
        "  dialogID = row['dialogID']\n",
        "  query_rewritten = row['question_rewritten']\n",
        "  query= row['query']\n",
        "  utterance = row['utterance']\n",
        "  ground_knowledge = row['ground_knowledge']\n",
        "\n",
        "  if dialogID != last_dialogID:\n",
        "    dialogID_index +=1\n",
        "    last_dialogID = dialogID\n",
        "    flag = True\n",
        "\n",
        "  assert dialogID == test_data[dialogID_index]['dialogID']\n",
        "\n",
        "  knowledge = \"\\n\".join(test_data[dialogID_index]['knowledge'])\n",
        "  persona_candidates = test_data[dialogID_index]['utterance'][utterance]['persona_candidate']\n",
        "  persona_grounding = test_data[dialogID_index]['utterance'][utterance]['persona_grounding']\n",
        "\n",
        "  paragraphs = get_paragraphs(knowledge)\n",
        "  passages = get_passages(paragraphs, window_size=1)\n",
        "\n",
        "  if flag == True:\n",
        "    try:\n",
        "      corpus_embeddings = bi_encoder.encode(passages, convert_to_tensor=True)\n",
        "    except Exception as e:\n",
        "      print(f\" Error Raised: DialogId: {dialogID} \\nException: {e}\" )\n",
        "      continue\n",
        "  hit_knowledge_0, score_0 = get_result(query, passages, corpus_embeddings, n_count=1)\n",
        "  hit_knowledge_1, score_1 = get_result(query_rewritten, passages, corpus_embeddings, n_count=1)\n",
        "\n",
        "  if score_0 > score_1:\n",
        "    query = query\n",
        "    hit_knowledge = hit_knowledge_0\n",
        "    score = score_0\n",
        "  else:\n",
        "    query = query_rewritten\n",
        "    hit_knowledge = hit_knowledge_1\n",
        "    score = score_1\n",
        "\n",
        "  results.append({\n",
        "        \"dialogID\": dialogID,\n",
        "        \"utterance\": utterance,\n",
        "        \"query\": query,\n",
        "        \"hit_knowledge\": hit_knowledge,\n",
        "        \"ground_knowledge\": ground_knowledge,\n",
        "        \"persona_candidates\": persona_candidates,\n",
        "        \"persona_grounding\": persona_grounding,\n",
        "        \"similarity_score\": score\n",
        "    })"
      ]
    },
    {
      "cell_type": "markdown",
      "metadata": {
        "id": "mhIdEc06AhVa"
      },
      "source": [
        "\n",
        "\n",
        "*   Window-2 & Count-2 : 0.68034\n",
        "*   Window-2 & Count-1 : 0.68034\n",
        "*   Window-1 & Count-1 : 0.682617\n",
        "*   Window-1 & Count-2 : 0.682617\n",
        "*   Window-1 & Count-3 : 0.682617\n",
        "\n",
        "\n"
      ]
    },
    {
      "cell_type": "code",
      "execution_count": null,
      "metadata": {
        "id": "-BrbcpbUlhq6",
        "colab": {
          "base_uri": "https://localhost:8080/"
        },
        "outputId": "0ad30e0f-106a-4d7f-9bf0-91ede5c2f39e"
      },
      "outputs": [
        {
          "output_type": "execute_result",
          "data": {
            "text/plain": [
              "0.6876178949615003"
            ]
          },
          "metadata": {},
          "execution_count": 21
        }
      ],
      "source": [
        "scores = [result['similarity_score'] for result in results]\n",
        "sum(scores)/len(scores)"
      ]
    },
    {
      "cell_type": "code",
      "execution_count": null,
      "metadata": {
        "id": "wjaPER3BsdB1",
        "colab": {
          "base_uri": "https://localhost:8080/"
        },
        "outputId": "5658c22c-54aa-4bc4-fe44-41cc776705d8"
      },
      "outputs": [
        {
          "output_type": "execute_result",
          "data": {
            "text/plain": [
              "0.6021441309675462"
            ]
          },
          "metadata": {},
          "execution_count": 22
        }
      ],
      "source": [
        "sum(hit_knowledge_df['similarity_score'].values[:])/len(hit_knowledge_df['similarity_score'].values[:])"
      ]
    },
    {
      "cell_type": "code",
      "execution_count": null,
      "metadata": {
        "id": "wbH3GtCZ8Q8x"
      },
      "outputs": [],
      "source": [
        "result_df = pd.DataFrame(results)"
      ]
    },
    {
      "cell_type": "code",
      "execution_count": null,
      "metadata": {
        "colab": {
          "base_uri": "https://localhost:8080/"
        },
        "id": "IDeeg9wZ8X82",
        "outputId": "c093b578-e055-4a14-f30e-3eeee520b6cc"
      },
      "outputs": [
        {
          "output_type": "execute_result",
          "data": {
            "text/plain": [
              "Index(['dialogID', 'utterance', 'query', 'hit_knowledge', 'ground_knowledge',\n",
              "       'persona_candidates', 'persona_grounding', 'similarity_score'],\n",
              "      dtype='object')"
            ]
          },
          "metadata": {},
          "execution_count": 24
        }
      ],
      "source": [
        "result_df.columns"
      ]
    },
    {
      "cell_type": "code",
      "execution_count": null,
      "metadata": {
        "id": "sPmJ_Ff78-6l"
      },
      "outputs": [],
      "source": [
        "folder = \"/content/drive/MyDrive/UMBC/knowledge_retrieval\""
      ]
    },
    {
      "cell_type": "code",
      "execution_count": null,
      "metadata": {
        "id": "cjRWxFtz8hrh"
      },
      "outputs": [],
      "source": [
        "result_df.to_csv(f\"{folder}/train_query_rewritten_1_1.csv\", index = False)"
      ]
    },
    {
      "cell_type": "code",
      "execution_count": null,
      "metadata": {
        "colab": {
          "base_uri": "https://localhost:8080/"
        },
        "id": "WlX97XiLs8qI",
        "outputId": "9eff0400-95dc-449b-f30f-96f22ea7c69d"
      },
      "outputs": [
        {
          "output_type": "stream",
          "name": "stdout",
          "text": [
            "Query:  I know this place, but I don't remember the name of this place.\n",
            "It is the location of the oldest congregation in the city, with the parish being established in 1797. It is located across King Street from St. Lawrence Hall.\n"
          ]
        }
      ],
      "source": [
        "index =15\n",
        "print(\"Query: \", results[index]['query'])\n",
        "\n",
        "print( results[index]['hit_knowledge'])"
      ]
    },
    {
      "cell_type": "code",
      "execution_count": null,
      "metadata": {
        "colab": {
          "base_uri": "https://localhost:8080/"
        },
        "id": "lsv77Bxau5FS",
        "outputId": "8d0d9c2e-e2fb-4666-f100-7877b65b40b7"
      },
      "outputs": [
        {
          "output_type": "stream",
          "name": "stdout",
          "text": [
            "Query:  I know this place, but I don't remember the name of this place.\n",
            "The Cathedral Church of St. James is an Anglican cathedral in Downtown Toronto, Ontario, Canada. It is the location of the oldest congregation in the city, with the parish being established in 1797.\n"
          ]
        }
      ],
      "source": [
        "print(\"Query: \", hit_knowledge_df.iloc[index]['query'])\n",
        "\n",
        "print(hit_knowledge_df.iloc[index]['hit_knowledge'])"
      ]
    },
    {
      "cell_type": "code",
      "execution_count": null,
      "metadata": {
        "colab": {
          "base_uri": "https://localhost:8080/"
        },
        "id": "9ISpr67ssXbJ",
        "outputId": "6d34b673-0686-42db-c750-d1e603307354"
      },
      "outputs": [
        {
          "output_type": "execute_result",
          "data": {
            "text/plain": [
              "Index(['dialogID', 'utterance', 'query', 'hit_knowledge', 'ground_knowledge',\n",
              "       'ground_persona', 'similarity_score'],\n",
              "      dtype='object')"
            ]
          },
          "metadata": {},
          "execution_count": 29
        }
      ],
      "source": [
        "hit_knowledge_df.columns"
      ]
    },
    {
      "cell_type": "code",
      "execution_count": null,
      "metadata": {
        "colab": {
          "base_uri": "https://localhost:8080/",
          "height": 513
        },
        "id": "A7a6qE8OsZWe",
        "outputId": "9d72c889-8541-40ad-f41d-24f93374beb0"
      },
      "outputs": [
        {
          "output_type": "execute_result",
          "data": {
            "text/plain": [
              "       dialogID  utterance                                              query  \\\n",
              "0  CGHGPTDOA0O7          0  I think I've been there before but I don't rem...   \n",
              "1  CGHGPTDOA0O7          1                               Where is this place?   \n",
              "2  CGHGPTDOA0O7          2                         When this was inaugurated?   \n",
              "3  CGHGPTDOA0O7          3                Who was the architect at that time?   \n",
              "4  CGHGPTDOA0O7          4                  What was the height of the tower?   \n",
              "\n",
              "                                       hit_knowledge  \\\n",
              "0  Although it is not fully understood how it cam...   \n",
              "1  Rochdale Town Hall is a Victorian-era municipa...   \n",
              "2  Built in the Gothic Revival style at a cost of...   \n",
              "3  Alfred Waterhouse was given the task of design...   \n",
              "4  The design of the original tower was more elab...   \n",
              "\n",
              "                                    ground_knowledge  \\\n",
              "0  Rochdale Town Hall is a Victorian-era municipa...   \n",
              "1  Rochdale Town Hall is a Victorian-era municipa...   \n",
              "2  Built in the Gothic Revival style at a cost of...   \n",
              "3  The architect, William Henry Crossland, was th...   \n",
              "4  The design of the original tower was more elab...   \n",
              "\n",
              "                       ground_persona  similarity_score  \n",
              "0                                  []          0.564609  \n",
              "1  ['I would like to go to england.']          0.955529  \n",
              "2                                  []          0.846570  \n",
              "3          ['I am not an architect.']          0.382931  \n",
              "4                                  []          1.000000  "
            ],
            "text/html": [
              "\n",
              "  <div id=\"df-e50c3b10-1be7-4237-b09d-f60c49705563\">\n",
              "    <div class=\"colab-df-container\">\n",
              "      <div>\n",
              "<style scoped>\n",
              "    .dataframe tbody tr th:only-of-type {\n",
              "        vertical-align: middle;\n",
              "    }\n",
              "\n",
              "    .dataframe tbody tr th {\n",
              "        vertical-align: top;\n",
              "    }\n",
              "\n",
              "    .dataframe thead th {\n",
              "        text-align: right;\n",
              "    }\n",
              "</style>\n",
              "<table border=\"1\" class=\"dataframe\">\n",
              "  <thead>\n",
              "    <tr style=\"text-align: right;\">\n",
              "      <th></th>\n",
              "      <th>dialogID</th>\n",
              "      <th>utterance</th>\n",
              "      <th>query</th>\n",
              "      <th>hit_knowledge</th>\n",
              "      <th>ground_knowledge</th>\n",
              "      <th>ground_persona</th>\n",
              "      <th>similarity_score</th>\n",
              "    </tr>\n",
              "  </thead>\n",
              "  <tbody>\n",
              "    <tr>\n",
              "      <th>0</th>\n",
              "      <td>CGHGPTDOA0O7</td>\n",
              "      <td>0</td>\n",
              "      <td>I think I've been there before but I don't rem...</td>\n",
              "      <td>Although it is not fully understood how it cam...</td>\n",
              "      <td>Rochdale Town Hall is a Victorian-era municipa...</td>\n",
              "      <td>[]</td>\n",
              "      <td>0.564609</td>\n",
              "    </tr>\n",
              "    <tr>\n",
              "      <th>1</th>\n",
              "      <td>CGHGPTDOA0O7</td>\n",
              "      <td>1</td>\n",
              "      <td>Where is this place?</td>\n",
              "      <td>Rochdale Town Hall is a Victorian-era municipa...</td>\n",
              "      <td>Rochdale Town Hall is a Victorian-era municipa...</td>\n",
              "      <td>['I would like to go to england.']</td>\n",
              "      <td>0.955529</td>\n",
              "    </tr>\n",
              "    <tr>\n",
              "      <th>2</th>\n",
              "      <td>CGHGPTDOA0O7</td>\n",
              "      <td>2</td>\n",
              "      <td>When this was inaugurated?</td>\n",
              "      <td>Built in the Gothic Revival style at a cost of...</td>\n",
              "      <td>Built in the Gothic Revival style at a cost of...</td>\n",
              "      <td>[]</td>\n",
              "      <td>0.846570</td>\n",
              "    </tr>\n",
              "    <tr>\n",
              "      <th>3</th>\n",
              "      <td>CGHGPTDOA0O7</td>\n",
              "      <td>3</td>\n",
              "      <td>Who was the architect at that time?</td>\n",
              "      <td>Alfred Waterhouse was given the task of design...</td>\n",
              "      <td>The architect, William Henry Crossland, was th...</td>\n",
              "      <td>['I am not an architect.']</td>\n",
              "      <td>0.382931</td>\n",
              "    </tr>\n",
              "    <tr>\n",
              "      <th>4</th>\n",
              "      <td>CGHGPTDOA0O7</td>\n",
              "      <td>4</td>\n",
              "      <td>What was the height of the tower?</td>\n",
              "      <td>The design of the original tower was more elab...</td>\n",
              "      <td>The design of the original tower was more elab...</td>\n",
              "      <td>[]</td>\n",
              "      <td>1.000000</td>\n",
              "    </tr>\n",
              "  </tbody>\n",
              "</table>\n",
              "</div>\n",
              "      <button class=\"colab-df-convert\" onclick=\"convertToInteractive('df-e50c3b10-1be7-4237-b09d-f60c49705563')\"\n",
              "              title=\"Convert this dataframe to an interactive table.\"\n",
              "              style=\"display:none;\">\n",
              "        \n",
              "  <svg xmlns=\"http://www.w3.org/2000/svg\" height=\"24px\"viewBox=\"0 0 24 24\"\n",
              "       width=\"24px\">\n",
              "    <path d=\"M0 0h24v24H0V0z\" fill=\"none\"/>\n",
              "    <path d=\"M18.56 5.44l.94 2.06.94-2.06 2.06-.94-2.06-.94-.94-2.06-.94 2.06-2.06.94zm-11 1L8.5 8.5l.94-2.06 2.06-.94-2.06-.94L8.5 2.5l-.94 2.06-2.06.94zm10 10l.94 2.06.94-2.06 2.06-.94-2.06-.94-.94-2.06-.94 2.06-2.06.94z\"/><path d=\"M17.41 7.96l-1.37-1.37c-.4-.4-.92-.59-1.43-.59-.52 0-1.04.2-1.43.59L10.3 9.45l-7.72 7.72c-.78.78-.78 2.05 0 2.83L4 21.41c.39.39.9.59 1.41.59.51 0 1.02-.2 1.41-.59l7.78-7.78 2.81-2.81c.8-.78.8-2.07 0-2.86zM5.41 20L4 18.59l7.72-7.72 1.47 1.35L5.41 20z\"/>\n",
              "  </svg>\n",
              "      </button>\n",
              "      \n",
              "  <style>\n",
              "    .colab-df-container {\n",
              "      display:flex;\n",
              "      flex-wrap:wrap;\n",
              "      gap: 12px;\n",
              "    }\n",
              "\n",
              "    .colab-df-convert {\n",
              "      background-color: #E8F0FE;\n",
              "      border: none;\n",
              "      border-radius: 50%;\n",
              "      cursor: pointer;\n",
              "      display: none;\n",
              "      fill: #1967D2;\n",
              "      height: 32px;\n",
              "      padding: 0 0 0 0;\n",
              "      width: 32px;\n",
              "    }\n",
              "\n",
              "    .colab-df-convert:hover {\n",
              "      background-color: #E2EBFA;\n",
              "      box-shadow: 0px 1px 2px rgba(60, 64, 67, 0.3), 0px 1px 3px 1px rgba(60, 64, 67, 0.15);\n",
              "      fill: #174EA6;\n",
              "    }\n",
              "\n",
              "    [theme=dark] .colab-df-convert {\n",
              "      background-color: #3B4455;\n",
              "      fill: #D2E3FC;\n",
              "    }\n",
              "\n",
              "    [theme=dark] .colab-df-convert:hover {\n",
              "      background-color: #434B5C;\n",
              "      box-shadow: 0px 1px 3px 1px rgba(0, 0, 0, 0.15);\n",
              "      filter: drop-shadow(0px 1px 2px rgba(0, 0, 0, 0.3));\n",
              "      fill: #FFFFFF;\n",
              "    }\n",
              "  </style>\n",
              "\n",
              "      <script>\n",
              "        const buttonEl =\n",
              "          document.querySelector('#df-e50c3b10-1be7-4237-b09d-f60c49705563 button.colab-df-convert');\n",
              "        buttonEl.style.display =\n",
              "          google.colab.kernel.accessAllowed ? 'block' : 'none';\n",
              "\n",
              "        async function convertToInteractive(key) {\n",
              "          const element = document.querySelector('#df-e50c3b10-1be7-4237-b09d-f60c49705563');\n",
              "          const dataTable =\n",
              "            await google.colab.kernel.invokeFunction('convertToInteractive',\n",
              "                                                     [key], {});\n",
              "          if (!dataTable) return;\n",
              "\n",
              "          const docLinkHtml = 'Like what you see? Visit the ' +\n",
              "            '<a target=\"_blank\" href=https://colab.research.google.com/notebooks/data_table.ipynb>data table notebook</a>'\n",
              "            + ' to learn more about interactive tables.';\n",
              "          element.innerHTML = '';\n",
              "          dataTable['output_type'] = 'display_data';\n",
              "          await google.colab.output.renderOutput(dataTable, element);\n",
              "          const docLink = document.createElement('div');\n",
              "          docLink.innerHTML = docLinkHtml;\n",
              "          element.appendChild(docLink);\n",
              "        }\n",
              "      </script>\n",
              "    </div>\n",
              "  </div>\n",
              "  "
            ]
          },
          "metadata": {},
          "execution_count": 30
        }
      ],
      "source": [
        "hit_knowledge_df.head()"
      ]
    },
    {
      "cell_type": "code",
      "execution_count": null,
      "metadata": {
        "id": "wlxOUowTspvD",
        "colab": {
          "base_uri": "https://localhost:8080/"
        },
        "outputId": "ff878e6d-a309-491e-dc0c-3f219f48222e"
      },
      "outputs": [
        {
          "output_type": "execute_result",
          "data": {
            "text/plain": [
              "(57898, 8)"
            ]
          },
          "metadata": {},
          "execution_count": 31
        }
      ],
      "source": [
        "result_df.shape"
      ]
    },
    {
      "cell_type": "code",
      "source": [],
      "metadata": {
        "id": "i9xi2y-IeAC_"
      },
      "execution_count": null,
      "outputs": []
    }
  ],
  "metadata": {
    "accelerator": "GPU",
    "colab": {
      "provenance": []
    },
    "gpuClass": "standard",
    "kernelspec": {
      "display_name": "Python 3",
      "name": "python3"
    },
    "language_info": {
      "name": "python"
    }
  },
  "nbformat": 4,
  "nbformat_minor": 0
}