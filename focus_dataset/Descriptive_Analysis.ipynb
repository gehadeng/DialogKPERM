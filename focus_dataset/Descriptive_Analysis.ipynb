{
  "nbformat": 4,
  "nbformat_minor": 0,
  "metadata": {
    "colab": {
      "provenance": []
    },
    "kernelspec": {
      "name": "python3",
      "display_name": "Python 3"
    },
    "language_info": {
      "name": "python"
    }
  },
  "cells": [
    {
      "cell_type": "code",
      "execution_count": null,
      "metadata": {
        "colab": {
          "base_uri": "https://localhost:8080/"
        },
        "id": "OT-RL25iatqz",
        "outputId": "91aff9f0-7876-4f78-8ea1-fc81a649633d"
      },
      "outputs": [
        {
          "output_type": "stream",
          "name": "stdout",
          "text": [
            "Drive already mounted at /content/drive; to attempt to forcibly remount, call drive.mount(\"/content/drive\", force_remount=True).\n"
          ]
        }
      ],
      "source": [
        "from google.colab import drive\n",
        "drive.mount('/content/drive')"
      ]
    },
    {
      "cell_type": "code",
      "source": [
        "!unzip /content/drive/MyDrive/FoCus_modified.zip -d ./"
      ],
      "metadata": {
        "colab": {
          "base_uri": "https://localhost:8080/"
        },
        "id": "wfu1HsvMawof",
        "outputId": "5d2da119-df40-49b9-e288-ca9728e92d59"
      },
      "execution_count": null,
      "outputs": [
        {
          "output_type": "stream",
          "name": "stdout",
          "text": [
            "Archive:  /content/drive/MyDrive/FoCus_modified.zip\n",
            "replace ./FoCus_modified/val_set.json? [y]es, [n]o, [A]ll, [N]one, [r]ename: "
          ]
        }
      ]
    },
    {
      "cell_type": "code",
      "source": [
        "import json\n",
        "import os\n",
        "import pandas"
      ],
      "metadata": {
        "id": "koswgQrXbFuS"
      },
      "execution_count": null,
      "outputs": []
    },
    {
      "cell_type": "code",
      "source": [
        "folder = \"/content/FoCus_modified\""
      ],
      "metadata": {
        "id": "KboeqCsxayN6"
      },
      "execution_count": null,
      "outputs": []
    },
    {
      "cell_type": "code",
      "source": [
        "with open(f\"/content/FoCus_modified/val_set.json\", \"r\") as f:\n",
        "  valid = json.loads(f.read())"
      ],
      "metadata": {
        "id": "uUz0rDFXa95u"
      },
      "execution_count": null,
      "outputs": []
    },
    {
      "cell_type": "code",
      "source": [
        "len(valid)"
      ],
      "metadata": {
        "colab": {
          "base_uri": "https://localhost:8080/"
        },
        "id": "dvilCzgvbJrH",
        "outputId": "4b84d579-9fd7-45a5-9bea-11306239bc53"
      },
      "execution_count": null,
      "outputs": [
        {
          "output_type": "execute_result",
          "data": {
            "text/plain": [
              "1600"
            ]
          },
          "metadata": {},
          "execution_count": 9
        }
      ]
    },
    {
      "cell_type": "code",
      "source": [
        "def check_length(data):\n",
        "  length_utterance = []\n",
        "  for idx in range(len(valid)):\n",
        "    l = len(valid[idx]['utterance'])\n",
        "    length_utterance.append(l)\n",
        "  return sum(length_utterance)/len(length_utterance)"
      ],
      "metadata": {
        "id": "2zpWAbzbcKNu"
      },
      "execution_count": null,
      "outputs": []
    },
    {
      "cell_type": "code",
      "source": [
        "length_utterance = []\n",
        "for idx in range(len(valid)):\n",
        "  l = len(valid[idx]['utterance'])\n",
        "  length_utterance.append(l)"
      ],
      "metadata": {
        "id": "u-WJvzGobOLk"
      },
      "execution_count": null,
      "outputs": []
    },
    {
      "cell_type": "code",
      "source": [
        "sum(length_utterance)/len(length_utterance)"
      ],
      "metadata": {
        "colab": {
          "base_uri": "https://localhost:8080/"
        },
        "id": "GwjIbZRdbUww",
        "outputId": "881b9cc7-3f16-41f0-a720-e30fc465e7b1"
      },
      "execution_count": null,
      "outputs": [
        {
          "output_type": "execute_result",
          "data": {
            "text/plain": [
              "5.63"
            ]
          },
          "metadata": {},
          "execution_count": 85
        }
      ]
    },
    {
      "cell_type": "code",
      "source": [
        "def get_grounding_and_length(data):\n",
        "  dialog_length = []\n",
        "  persona_grounding = []\n",
        "  try:\n",
        "    for i in range(len(data)):\n",
        "      utterance = data[i]['utterance']\n",
        "      for idx in range(len(utterance)):\n",
        "        # print(utterance[idx][f'dialogue{idx+1}'][-1].split())\n",
        "        # -1 for Human Utterance, -2 for Machine Utterance\n",
        "        dialog_len = len(utterance[idx][f'dialogue{idx+1}'][-1].split())\n",
        "        # print(dialog_len)\n",
        "        dialog_length.append(dialog_len)\n",
        "        # if idx>100:\n",
        "        #   break\n",
        "        if sum(utterance[idx]['persona_grounding']) >=1:\n",
        "          persona_grounding.append(1)\n",
        "        else:\n",
        "          persona_grounding.append(0)\n",
        "  except Exception as e:\n",
        "    print(i, e)\n",
        "  return {\n",
        "      \"avg_dialog_len\":sum(dialog_length)/len(dialog_length),\n",
        "      \"knowledge_only\": len(persona_grounding)-sum(persona_grounding),\n",
        "      \"knowledge_persona_both\": sum(persona_grounding),\n",
        "      \"total_utterances\": len(persona_grounding)\n",
        "      }\n"
      ],
      "metadata": {
        "id": "Z3BKdcTycB4Y"
      },
      "execution_count": null,
      "outputs": []
    },
    {
      "cell_type": "code",
      "source": [
        "get_grounding_and_length(valid)"
      ],
      "metadata": {
        "colab": {
          "base_uri": "https://localhost:8080/"
        },
        "id": "nSOmjGZQcxSS",
        "outputId": "b0199f26-6595-4e80-8ed8-3065d8a8fc6b"
      },
      "execution_count": null,
      "outputs": [
        {
          "output_type": "execute_result",
          "data": {
            "text/plain": [
              "{'avg_dialog_len': 23.92251332149201,\n",
              " 'knowledge_only': 3344,\n",
              " 'knowledge_persona_both': 5664,\n",
              " 'total_utterances': 9008}"
            ]
          },
          "metadata": {},
          "execution_count": 87
        }
      ]
    },
    {
      "cell_type": "code",
      "source": [
        "def get_unique_landmarks_count(data):\n",
        "  landmark_links = set()\n",
        "  for idx in range(len(data)):\n",
        "    landmark_links.add(data[idx]['landmark_link'])\n",
        "  return len(landmark_links)"
      ],
      "metadata": {
        "id": "Cd2Ln1kQeoNs"
      },
      "execution_count": null,
      "outputs": []
    },
    {
      "cell_type": "code",
      "source": [
        "with open(f\"/content/FoCus_modified/val_set.json\", \"r\") as f:\n",
        "  valid = json.loads(f.read())\n",
        "with open(f\"/content/FoCus_modified/test_set.json\", \"r\") as f:\n",
        "  test = json.loads(f.read())\n",
        "with open(f\"/content/FoCus_modified/train_set.json\", \"r\") as f:\n",
        "  train = json.loads(f.read())"
      ],
      "metadata": {
        "id": "K-FGeS9EhgTX"
      },
      "execution_count": null,
      "outputs": []
    },
    {
      "cell_type": "code",
      "source": [
        "print(\"Train\", get_unique_landmarks_count(train))\n",
        "print(\"Valid\", get_unique_landmarks_count(valid))\n",
        "print(\"Test\", get_unique_landmarks_count(test))"
      ],
      "metadata": {
        "colab": {
          "base_uri": "https://localhost:8080/"
        },
        "id": "GhIWIctah8ei",
        "outputId": "963f2cd6-41a8-436e-ac95-3e0c58ed9051"
      },
      "execution_count": null,
      "outputs": [
        {
          "output_type": "stream",
          "name": "stdout",
          "text": [
            "Train 4918\n",
            "Valid 1414\n",
            "Test 1383\n"
          ]
        }
      ]
    },
    {
      "cell_type": "code",
      "source": [
        "# %debug\n",
        "print(\"Train\", get_grounding_and_length(train))\n",
        "print(\"---------------------------------------\")\n",
        "\n",
        "print(\"Valid\", get_grounding_and_length(valid))\n",
        "print(\"---------------------------------------\")\n",
        "\n",
        "print(\"Test\", get_grounding_and_length(test))\n",
        "print(\"---------------------------------------\")\n"
      ],
      "metadata": {
        "colab": {
          "base_uri": "https://localhost:8080/"
        },
        "id": "gJObhVOqiIBZ",
        "outputId": "5b1e5c8d-945c-4fde-b1c9-1c06f2b25b59"
      },
      "execution_count": null,
      "outputs": [
        {
          "output_type": "stream",
          "name": "stdout",
          "text": [
            "Train {'avg_dialog_len': 24.245114625051787, 'knowledge_only': 21456, 'knowledge_persona_both': 36472, 'total_utterances': 57928}\n",
            "---------------------------------------\n",
            "Valid {'avg_dialog_len': 23.92251332149201, 'knowledge_only': 3344, 'knowledge_persona_both': 5664, 'total_utterances': 9008}\n",
            "---------------------------------------\n",
            "Test {'avg_dialog_len': 23.89175428887659, 'knowledge_only': 3328, 'knowledge_persona_both': 5707, 'total_utterances': 9035}\n",
            "---------------------------------------\n"
          ]
        }
      ]
    },
    {
      "cell_type": "code",
      "source": [
        "train[100]"
      ],
      "metadata": {
        "id": "JNwHDJOYifOx"
      },
      "execution_count": null,
      "outputs": []
    },
    {
      "cell_type": "code",
      "source": [
        "def check_length(data):\n",
        "  length_utterance = []\n",
        "  for idx in range(len(data)):\n",
        "    l = len(data[idx]['utterance'])\n",
        "    length_utterance.append(l)\n",
        "  return sum(length_utterance)/len(length_utterance)"
      ],
      "metadata": {
        "id": "kjWfWICYineS"
      },
      "execution_count": null,
      "outputs": []
    },
    {
      "cell_type": "code",
      "source": [
        "# %debug\n",
        "print(\"Train\", check_length(train))\n",
        "print(\"---------------------------------------\")\n",
        "\n",
        "print(\"Valid\", check_length(valid))\n",
        "print(\"---------------------------------------\")\n",
        "\n",
        "print(\"Test\", check_length(test))\n",
        "print(\"---------------------------------------\")\n"
      ],
      "metadata": {
        "colab": {
          "base_uri": "https://localhost:8080/"
        },
        "id": "cE_R5hdzjlOE",
        "outputId": "9656c9a5-44b1-4c63-ac9d-18dddee9460a"
      },
      "execution_count": null,
      "outputs": [
        {
          "output_type": "stream",
          "name": "stdout",
          "text": [
            "Train 5.632827693504473\n",
            "---------------------------------------\n",
            "Valid 5.63\n",
            "---------------------------------------\n",
            "Test 5.646875\n",
            "---------------------------------------\n"
          ]
        }
      ]
    },
    {
      "cell_type": "code",
      "source": [
        "len(train), len(valid), len(test)"
      ],
      "metadata": {
        "colab": {
          "base_uri": "https://localhost:8080/"
        },
        "id": "VoKMfjl1jn4G",
        "outputId": "3b1f32cc-be6e-4210-92ee-e60d93201b2d"
      },
      "execution_count": null,
      "outputs": [
        {
          "output_type": "execute_result",
          "data": {
            "text/plain": [
              "(10284, 1600, 1600)"
            ]
          },
          "metadata": {},
          "execution_count": 74
        }
      ]
    },
    {
      "cell_type": "code",
      "source": [],
      "metadata": {
        "id": "gchbY0gmj4ZZ"
      },
      "execution_count": null,
      "outputs": []
    }
  ]
}